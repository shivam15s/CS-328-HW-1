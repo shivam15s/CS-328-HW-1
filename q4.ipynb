{
 "cells": [
  {
   "cell_type": "code",
   "execution_count": 1,
   "metadata": {},
   "outputs": [],
   "source": [
    "import numpy as np\n",
    "import pandas as pd\n",
    "import random\n",
    "from tqdm import tqdm\n",
    "from sklearn import preprocessing"
   ]
  },
  {
   "cell_type": "code",
   "execution_count": 2,
   "metadata": {},
   "outputs": [],
   "source": [
    "df = pd.read_csv('CC GENERAL.csv')"
   ]
  },
  {
   "cell_type": "code",
   "execution_count": 3,
   "metadata": {},
   "outputs": [],
   "source": [
    "df = df.set_index('CUST_ID')"
   ]
  },
  {
   "cell_type": "code",
   "execution_count": 4,
   "metadata": {},
   "outputs": [],
   "source": [
    "df = df.dropna() #Dropping any null values"
   ]
  },
  {
   "cell_type": "markdown",
   "metadata": {},
   "source": [
    "## Normalizing Values"
   ]
  },
  {
   "cell_type": "code",
   "execution_count": 5,
   "metadata": {},
   "outputs": [],
   "source": [
    "val = df.values\n",
    "#Normailizing all column values using sklearn MinMaxScaler\n",
    "min_max_scalar = preprocessing.MinMaxScaler()\n",
    "df_scaled = min_max_scalar.fit_transform(val)\n",
    "df = pd.DataFrame(df_scaled, columns=df.columns)"
   ]
  },
  {
   "cell_type": "code",
   "execution_count": 6,
   "metadata": {},
   "outputs": [
    {
     "data": {
      "text/html": [
       "<div>\n",
       "<style scoped>\n",
       "    .dataframe tbody tr th:only-of-type {\n",
       "        vertical-align: middle;\n",
       "    }\n",
       "\n",
       "    .dataframe tbody tr th {\n",
       "        vertical-align: top;\n",
       "    }\n",
       "\n",
       "    .dataframe thead th {\n",
       "        text-align: right;\n",
       "    }\n",
       "</style>\n",
       "<table border=\"1\" class=\"dataframe\">\n",
       "  <thead>\n",
       "    <tr style=\"text-align: right;\">\n",
       "      <th></th>\n",
       "      <th>BALANCE</th>\n",
       "      <th>BALANCE_FREQUENCY</th>\n",
       "      <th>PURCHASES</th>\n",
       "      <th>ONEOFF_PURCHASES</th>\n",
       "      <th>INSTALLMENTS_PURCHASES</th>\n",
       "      <th>CASH_ADVANCE</th>\n",
       "      <th>PURCHASES_FREQUENCY</th>\n",
       "      <th>ONEOFF_PURCHASES_FREQUENCY</th>\n",
       "      <th>PURCHASES_INSTALLMENTS_FREQUENCY</th>\n",
       "      <th>CASH_ADVANCE_FREQUENCY</th>\n",
       "      <th>CASH_ADVANCE_TRX</th>\n",
       "      <th>PURCHASES_TRX</th>\n",
       "      <th>CREDIT_LIMIT</th>\n",
       "      <th>PAYMENTS</th>\n",
       "      <th>MINIMUM_PAYMENTS</th>\n",
       "      <th>PRC_FULL_PAYMENT</th>\n",
       "      <th>TENURE</th>\n",
       "    </tr>\n",
       "  </thead>\n",
       "  <tbody>\n",
       "    <tr>\n",
       "      <th>count</th>\n",
       "      <td>8636.000000</td>\n",
       "      <td>8636.000000</td>\n",
       "      <td>8636.000000</td>\n",
       "      <td>8636.000000</td>\n",
       "      <td>8636.000000</td>\n",
       "      <td>8636.000000</td>\n",
       "      <td>8636.000000</td>\n",
       "      <td>8636.000000</td>\n",
       "      <td>8636.000000</td>\n",
       "      <td>8636.000000</td>\n",
       "      <td>8636.000000</td>\n",
       "      <td>8636.000000</td>\n",
       "      <td>8636.000000</td>\n",
       "      <td>8636.000000</td>\n",
       "      <td>8636.000000</td>\n",
       "      <td>8636.000000</td>\n",
       "      <td>8636.000000</td>\n",
       "    </tr>\n",
       "    <tr>\n",
       "      <th>mean</th>\n",
       "      <td>0.084084</td>\n",
       "      <td>0.895035</td>\n",
       "      <td>0.020910</td>\n",
       "      <td>0.014840</td>\n",
       "      <td>0.018704</td>\n",
       "      <td>0.021091</td>\n",
       "      <td>0.496000</td>\n",
       "      <td>0.205909</td>\n",
       "      <td>0.368820</td>\n",
       "      <td>0.091736</td>\n",
       "      <td>0.026942</td>\n",
       "      <td>0.041992</td>\n",
       "      <td>0.149319</td>\n",
       "      <td>0.035181</td>\n",
       "      <td>0.011312</td>\n",
       "      <td>0.159304</td>\n",
       "      <td>0.922398</td>\n",
       "    </tr>\n",
       "    <tr>\n",
       "      <th>std</th>\n",
       "      <td>0.110043</td>\n",
       "      <td>0.207697</td>\n",
       "      <td>0.044191</td>\n",
       "      <td>0.041321</td>\n",
       "      <td>0.040766</td>\n",
       "      <td>0.045006</td>\n",
       "      <td>0.401273</td>\n",
       "      <td>0.300054</td>\n",
       "      <td>0.398093</td>\n",
       "      <td>0.134528</td>\n",
       "      <td>0.056199</td>\n",
       "      <td>0.070337</td>\n",
       "      <td>0.122178</td>\n",
       "      <td>0.057368</td>\n",
       "      <td>0.031052</td>\n",
       "      <td>0.296271</td>\n",
       "      <td>0.218497</td>\n",
       "    </tr>\n",
       "    <tr>\n",
       "      <th>min</th>\n",
       "      <td>0.000000</td>\n",
       "      <td>0.000000</td>\n",
       "      <td>0.000000</td>\n",
       "      <td>0.000000</td>\n",
       "      <td>0.000000</td>\n",
       "      <td>0.000000</td>\n",
       "      <td>0.000000</td>\n",
       "      <td>0.000000</td>\n",
       "      <td>0.000000</td>\n",
       "      <td>0.000000</td>\n",
       "      <td>0.000000</td>\n",
       "      <td>0.000000</td>\n",
       "      <td>0.000000</td>\n",
       "      <td>0.000000</td>\n",
       "      <td>0.000000</td>\n",
       "      <td>0.000000</td>\n",
       "      <td>0.000000</td>\n",
       "    </tr>\n",
       "    <tr>\n",
       "      <th>25%</th>\n",
       "      <td>0.007777</td>\n",
       "      <td>0.909091</td>\n",
       "      <td>0.000884</td>\n",
       "      <td>0.000000</td>\n",
       "      <td>0.000000</td>\n",
       "      <td>0.000000</td>\n",
       "      <td>0.083333</td>\n",
       "      <td>0.000000</td>\n",
       "      <td>0.000000</td>\n",
       "      <td>0.000000</td>\n",
       "      <td>0.000000</td>\n",
       "      <td>0.002793</td>\n",
       "      <td>0.051753</td>\n",
       "      <td>0.008251</td>\n",
       "      <td>0.002214</td>\n",
       "      <td>0.000000</td>\n",
       "      <td>1.000000</td>\n",
       "    </tr>\n",
       "    <tr>\n",
       "      <th>50%</th>\n",
       "      <td>0.048146</td>\n",
       "      <td>1.000000</td>\n",
       "      <td>0.007655</td>\n",
       "      <td>0.001104</td>\n",
       "      <td>0.004213</td>\n",
       "      <td>0.000000</td>\n",
       "      <td>0.500000</td>\n",
       "      <td>0.083333</td>\n",
       "      <td>0.166667</td>\n",
       "      <td>0.000000</td>\n",
       "      <td>0.000000</td>\n",
       "      <td>0.019553</td>\n",
       "      <td>0.098497</td>\n",
       "      <td>0.017677</td>\n",
       "      <td>0.004089</td>\n",
       "      <td>0.000000</td>\n",
       "      <td>1.000000</td>\n",
       "    </tr>\n",
       "    <tr>\n",
       "      <th>75%</th>\n",
       "      <td>0.110549</td>\n",
       "      <td>1.000000</td>\n",
       "      <td>0.023368</td>\n",
       "      <td>0.014698</td>\n",
       "      <td>0.021518</td>\n",
       "      <td>0.024023</td>\n",
       "      <td>0.916667</td>\n",
       "      <td>0.333333</td>\n",
       "      <td>0.750000</td>\n",
       "      <td>0.166667</td>\n",
       "      <td>0.032520</td>\n",
       "      <td>0.050279</td>\n",
       "      <td>0.215359</td>\n",
       "      <td>0.038467</td>\n",
       "      <td>0.010804</td>\n",
       "      <td>0.166667</td>\n",
       "      <td>1.000000</td>\n",
       "    </tr>\n",
       "    <tr>\n",
       "      <th>max</th>\n",
       "      <td>1.000000</td>\n",
       "      <td>1.000000</td>\n",
       "      <td>1.000000</td>\n",
       "      <td>1.000000</td>\n",
       "      <td>1.000000</td>\n",
       "      <td>1.000000</td>\n",
       "      <td>1.000000</td>\n",
       "      <td>1.000000</td>\n",
       "      <td>1.000000</td>\n",
       "      <td>1.000000</td>\n",
       "      <td>1.000000</td>\n",
       "      <td>1.000000</td>\n",
       "      <td>1.000000</td>\n",
       "      <td>1.000000</td>\n",
       "      <td>1.000000</td>\n",
       "      <td>1.000000</td>\n",
       "      <td>1.000000</td>\n",
       "    </tr>\n",
       "  </tbody>\n",
       "</table>\n",
       "</div>"
      ],
      "text/plain": [
       "           BALANCE  BALANCE_FREQUENCY    PURCHASES  ONEOFF_PURCHASES  \\\n",
       "count  8636.000000        8636.000000  8636.000000       8636.000000   \n",
       "mean      0.084084           0.895035     0.020910          0.014840   \n",
       "std       0.110043           0.207697     0.044191          0.041321   \n",
       "min       0.000000           0.000000     0.000000          0.000000   \n",
       "25%       0.007777           0.909091     0.000884          0.000000   \n",
       "50%       0.048146           1.000000     0.007655          0.001104   \n",
       "75%       0.110549           1.000000     0.023368          0.014698   \n",
       "max       1.000000           1.000000     1.000000          1.000000   \n",
       "\n",
       "       INSTALLMENTS_PURCHASES  CASH_ADVANCE  PURCHASES_FREQUENCY  \\\n",
       "count             8636.000000   8636.000000          8636.000000   \n",
       "mean                 0.018704      0.021091             0.496000   \n",
       "std                  0.040766      0.045006             0.401273   \n",
       "min                  0.000000      0.000000             0.000000   \n",
       "25%                  0.000000      0.000000             0.083333   \n",
       "50%                  0.004213      0.000000             0.500000   \n",
       "75%                  0.021518      0.024023             0.916667   \n",
       "max                  1.000000      1.000000             1.000000   \n",
       "\n",
       "       ONEOFF_PURCHASES_FREQUENCY  PURCHASES_INSTALLMENTS_FREQUENCY  \\\n",
       "count                 8636.000000                       8636.000000   \n",
       "mean                     0.205909                          0.368820   \n",
       "std                      0.300054                          0.398093   \n",
       "min                      0.000000                          0.000000   \n",
       "25%                      0.000000                          0.000000   \n",
       "50%                      0.083333                          0.166667   \n",
       "75%                      0.333333                          0.750000   \n",
       "max                      1.000000                          1.000000   \n",
       "\n",
       "       CASH_ADVANCE_FREQUENCY  CASH_ADVANCE_TRX  PURCHASES_TRX  CREDIT_LIMIT  \\\n",
       "count             8636.000000       8636.000000    8636.000000   8636.000000   \n",
       "mean                 0.091736          0.026942       0.041992      0.149319   \n",
       "std                  0.134528          0.056199       0.070337      0.122178   \n",
       "min                  0.000000          0.000000       0.000000      0.000000   \n",
       "25%                  0.000000          0.000000       0.002793      0.051753   \n",
       "50%                  0.000000          0.000000       0.019553      0.098497   \n",
       "75%                  0.166667          0.032520       0.050279      0.215359   \n",
       "max                  1.000000          1.000000       1.000000      1.000000   \n",
       "\n",
       "          PAYMENTS  MINIMUM_PAYMENTS  PRC_FULL_PAYMENT       TENURE  \n",
       "count  8636.000000       8636.000000       8636.000000  8636.000000  \n",
       "mean      0.035181          0.011312          0.159304     0.922398  \n",
       "std       0.057368          0.031052          0.296271     0.218497  \n",
       "min       0.000000          0.000000          0.000000     0.000000  \n",
       "25%       0.008251          0.002214          0.000000     1.000000  \n",
       "50%       0.017677          0.004089          0.000000     1.000000  \n",
       "75%       0.038467          0.010804          0.166667     1.000000  \n",
       "max       1.000000          1.000000          1.000000     1.000000  "
      ]
     },
     "execution_count": 6,
     "metadata": {},
     "output_type": "execute_result"
    }
   ],
   "source": [
    "df.describe()"
   ]
  },
  {
   "cell_type": "code",
   "execution_count": 7,
   "metadata": {},
   "outputs": [],
   "source": [
    "np.random.seed(42) #Random Seed for getting similar products"
   ]
  },
  {
   "cell_type": "markdown",
   "metadata": {},
   "source": [
    "## Greedy K_Center Algorithm"
   ]
  },
  {
   "cell_type": "code",
   "execution_count": 8,
   "metadata": {},
   "outputs": [],
   "source": [
    "def k_center(df, k):\n",
    "    centers = []\n",
    "    centers.append(np.random.randint(0, df.shape[0]-1))\n",
    "    for _ in range(k):\n",
    "        dist = [np.inf]*df.shape[0]\n",
    "        for index, ctr in enumerate(centers):\n",
    "            df_t = df.subtract(df.iloc[ctr])\n",
    "            dist_t = np.linalg.norm(df_t, axis=1)\n",
    "            dist = [min(d1, d2) for d1, d2 in zip(dist, dist_t)]\n",
    "        print(\"Iteraion \", _+1, \": \", max(dist))\n",
    "        if _ == k-1:\n",
    "            print(\"Cost of Clustering: \", max(dist))\n",
    "            break\n",
    "        new_ctr = dist.index(max(dist))\n",
    "        centers.append(new_ctr)"
   ]
  },
  {
   "cell_type": "markdown",
   "metadata": {},
   "source": [
    "## Running Greedy Algorithm for K-Center for k = 2, 4, 10"
   ]
  },
  {
   "cell_type": "code",
   "execution_count": 16,
   "metadata": {},
   "outputs": [
    {
     "name": "stdout",
     "output_type": "stream",
     "text": [
      "Iteraion  1 :  2.7006424801270006\n",
      "Iteraion  2 :  2.0387273608257246\n",
      "Cost of Clustering:  2.0387273608257246\n"
     ]
    }
   ],
   "source": [
    "k_center(df, 2)"
   ]
  },
  {
   "cell_type": "code",
   "execution_count": 17,
   "metadata": {},
   "outputs": [
    {
     "name": "stdout",
     "output_type": "stream",
     "text": [
      "Iteraion  1 :  2.7126722169692945\n",
      "Iteraion  2 :  2.0362025604304015\n",
      "Iteraion  3 :  1.9399728833856422\n",
      "Iteraion  4 :  1.9130838063058382\n",
      "Cost of Clustering:  1.9130838063058382\n"
     ]
    }
   ],
   "source": [
    "k_center(df, 4)"
   ]
  },
  {
   "cell_type": "code",
   "execution_count": 9,
   "metadata": {},
   "outputs": [
    {
     "name": "stdout",
     "output_type": "stream",
     "text": [
      "Iteraion  1 :  2.265197996078704\n",
      "Iteraion  2 :  2.0373563608155822\n",
      "Iteraion  3 :  1.9864849418166526\n",
      "Iteraion  4 :  1.8808492218050927\n",
      "Iteraion  5 :  1.8146989047056628\n",
      "Iteraion  6 :  1.6866406471556263\n",
      "Iteraion  7 :  1.5902928177829083\n",
      "Iteraion  8 :  1.5314195616154698\n",
      "Iteraion  9 :  1.5188841649071865\n",
      "Iteraion  10 :  1.4984577639954084\n",
      "Cost of Clustering:  1.4984577639954084\n"
     ]
    }
   ],
   "source": [
    "k_center(df, 10)"
   ]
  },
  {
   "cell_type": "code",
   "execution_count": 19,
   "metadata": {},
   "outputs": [],
   "source": [
    "df_small = df.iloc[:20] #Small DataSet"
   ]
  },
  {
   "cell_type": "code",
   "execution_count": 11,
   "metadata": {},
   "outputs": [],
   "source": [
    "def calc_cost(df, centers):\n",
    "    dist = [np.inf]*df.shape[0]\n",
    "    for index, ctr in enumerate(centers):\n",
    "        df_t = df.subtract(df.iloc[ctr])\n",
    "        dist_t = np.linalg.norm(df_t, axis=1)\n",
    "        dist = [min(d1, d2) for d1, d2 in zip(dist, dist_t)]\n",
    "    return max(dist)"
   ]
  },
  {
   "cell_type": "markdown",
   "metadata": {},
   "source": [
    "## Optimal Algorithm for K-Center, K = 2"
   ]
  },
  {
   "cell_type": "code",
   "execution_count": 12,
   "metadata": {},
   "outputs": [
    {
     "name": "stdout",
     "output_type": "stream",
     "text": [
      "Cost of Clustering:  1.1386643594179626\n"
     ]
    }
   ],
   "source": [
    "#Optimal Cluster for k = 2\n",
    "min_cost_k_2 = np.inf\n",
    "for i in range(df_small.shape[0]):\n",
    "    for j in range(df_small.shape[0]):\n",
    "        centers = [i, j]\n",
    "        min_cost_k_2 = min(min_cost_k_2, calc_cost(df_small, centers))\n",
    "print(\"Cost of Clustering: \", min_cost_k_2)"
   ]
  },
  {
   "cell_type": "code",
   "execution_count": 13,
   "metadata": {},
   "outputs": [
    {
     "name": "stdout",
     "output_type": "stream",
     "text": [
      "Iteraion  1 :  1.651154936670848\n",
      "Iteraion  2 :  1.2554417392935193\n",
      "Cost of Clustering:  1.2554417392935193\n"
     ]
    }
   ],
   "source": [
    "k_center(df_small, 2)"
   ]
  },
  {
   "cell_type": "code",
   "execution_count": 22,
   "metadata": {},
   "outputs": [
    {
     "name": "stdout",
     "output_type": "stream",
     "text": [
      "Approximation Factor for K = 2: 1.1025564547706124\n"
     ]
    }
   ],
   "source": [
    "print(\"Approximation Factor for K = 2:\", 1.2554417392935193/1.1386643594179626)"
   ]
  },
  {
   "cell_type": "markdown",
   "metadata": {},
   "source": [
    "## Optimal Algorithm for K-Center, K = 4"
   ]
  },
  {
   "cell_type": "code",
   "execution_count": 14,
   "metadata": {},
   "outputs": [
    {
     "name": "stderr",
     "output_type": "stream",
     "text": [
      "100%|██████████| 20/20 [00:06<00:00,  3.23it/s]"
     ]
    },
    {
     "name": "stdout",
     "output_type": "stream",
     "text": [
      "Cost of Clustering:  0.7051403155666904\n"
     ]
    },
    {
     "name": "stderr",
     "output_type": "stream",
     "text": [
      "\n"
     ]
    }
   ],
   "source": [
    "#Optimal Cluster for k = 4\n",
    "min_cost_k_4 = np.inf\n",
    "for i in tqdm(range(df_small.shape[0])):\n",
    "    for j in range(i+1, df_small.shape[0]):\n",
    "        for k in range(j+1, df_small.shape[0]):\n",
    "            for l in range(k+1, df_small.shape[0]):\n",
    "                centers = [i, j, k, l]\n",
    "                min_cost_k_4 = min(min_cost_k_4, calc_cost(df_small, centers))\n",
    "print(\"Cost of Clustering: \", min_cost_k_4)"
   ]
  },
  {
   "cell_type": "code",
   "execution_count": 15,
   "metadata": {},
   "outputs": [
    {
     "name": "stdout",
     "output_type": "stream",
     "text": [
      "Iteraion  1 :  1.836471418744053\n",
      "Iteraion  2 :  1.3095439421253219\n",
      "Iteraion  3 :  1.096455100184628\n",
      "Iteraion  4 :  0.7835629464950162\n",
      "Cost of Clustering:  0.7835629464950162\n"
     ]
    }
   ],
   "source": [
    "k_center(df_small, 4)"
   ]
  },
  {
   "cell_type": "code",
   "execution_count": 23,
   "metadata": {},
   "outputs": [
    {
     "name": "stdout",
     "output_type": "stream",
     "text": [
      "Approximation Factor for K = 4: 1.1112156392097663\n"
     ]
    }
   ],
   "source": [
    "print(\"Approximation Factor for K = 4:\", 0.7835629464950162/0.7051403155666904)"
   ]
  },
  {
   "cell_type": "code",
   "execution_count": null,
   "metadata": {},
   "outputs": [],
   "source": []
  },
  {
   "cell_type": "code",
   "execution_count": null,
   "metadata": {},
   "outputs": [],
   "source": []
  }
 ],
 "metadata": {
  "kernelspec": {
   "display_name": "Python 3.6.9 64-bit",
   "language": "python",
   "name": "python36964bitd7924115cd0248de864510c0f7759173"
  },
  "language_info": {
   "codemirror_mode": {
    "name": "ipython",
    "version": 3
   },
   "file_extension": ".py",
   "mimetype": "text/x-python",
   "name": "python",
   "nbconvert_exporter": "python",
   "pygments_lexer": "ipython3",
   "version": "3.6.9"
  }
 },
 "nbformat": 4,
 "nbformat_minor": 4
}
